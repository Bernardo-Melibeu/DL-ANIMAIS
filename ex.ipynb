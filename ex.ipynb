{
 "cells": [
  {
   "cell_type": "code",
   "execution_count": null,
   "metadata": {},
   "outputs": [],
   "source": [
    "from keras.preprocessing import image\n",
    "from tensorflow.keras.applications.resnet50 import ResNet50\n",
    "from tensorflow.keras.applications.resnet50 import preprocess_input\n",
    "import numpy as np\n",
    "import tensorflow as tf\n",
    "from sklearn.cluster import KMeans\n",
    "from PIL import UnidentifiedImageError\n",
    "from tensorflow.keras.utils import load_img, img_to_array\n",
    "from tensorflow.python.ops.numpy_ops import np_config\n",
    "np_config.enable_numpy_behavior()\n",
    "import sklearn\n",
    "import pandas as pd\n",
    "import matplotlib.pyplot as plt\n",
    "from sklearn.metrics import ConfusionMatrixDisplay"
   ]
  },
  {
   "cell_type": "code",
   "execution_count": null,
   "metadata": {},
   "outputs": [],
   "source": [
    "DL_MODEL = ResNet50(weights='imagenet', include_top=False)"
   ]
  },
  {
   "cell_type": "code",
   "execution_count": null,
   "metadata": {},
   "outputs": [],
   "source": [
    "batch_size = 1\n",
    "n_clusters= 10\n",
    "img_height = 224\n",
    "img_width = 224\n",
    "data_dir=\"data/animals10_small\"\n",
    "dataset = tf.keras.preprocessing.image_dataset_from_directory(data_dir, image_size=(img_height,img_width),\n",
    "                                                               batch_size=batch_size,labels=\"inferred\",crop_to_aspect_ratio=True)"
   ]
  },
  {
   "cell_type": "code",
   "execution_count": null,
   "metadata": {},
   "outputs": [],
   "source": [
    "#batch 1\n",
    "lista=[]\n",
    "labels=[]\n",
    "lista_img=[]\n",
    "for x,y in dataset:\n",
    "    labels.append(max(y.numpy()))\n",
    "    lista_img.append(x)\n",
    "    prepros=preprocess_input(x)\n",
    "    prepros=DL_MODEL.predict(prepros)\n",
    "    lista.append(prepros.flatten())\n",
    "kmeans=KMeans(n_clusters=n_clusters,max_iter=1000,random_state=42,n_init=20).fit(lista)"
   ]
  },
  {
   "cell_type": "code",
   "execution_count": null,
   "metadata": {},
   "outputs": [],
   "source": [
    "df=pd.DataFrame(kmeans.labels_,columns=[\"cluster\"])\n",
    "df[\"labels\"]=labels"
   ]
  },
  {
   "cell_type": "code",
   "execution_count": null,
   "metadata": {},
   "outputs": [],
   "source": [
    "df[\"foto_array\"]=[img.numpy().reshape(224,224,3).astype(\"uint8\") for img in lista_img]"
   ]
  },
  {
   "cell_type": "code",
   "execution_count": null,
   "metadata": {},
   "outputs": [],
   "source": [
    "disp = ConfusionMatrixDisplay.from_predictions(df[\"labels\"],df[\"cluster\"])\n",
    "_=disp.figure_.suptitle(\"Confusion Matrix\")\n",
    "cm=disp.confusion_matrix\n",
    "# print(f\"Confusion matrix:\\n{disp.confusion_matrix}\")"
   ]
  },
  {
   "cell_type": "code",
   "execution_count": null,
   "metadata": {},
   "outputs": [],
   "source": [
    "def reorder_clusters(clusters,cm):\n",
    "    new_clusters={}\n",
    "    possible_clusters=list(range(cm.shape[0]))\n",
    "    for idx,row in enumerate(cm):\n",
    "        sorted_index=np.argsort(row)[::-1]\n",
    "        for jdx in sorted_index:\n",
    "            if jdx in possible_clusters:\n",
    "                new_clusters[idx]=jdx\n",
    "                break\n",
    "        possible_clusters=list(filter(lambda item:item!=jdx,possible_clusters))\n",
    "    new_clusters={v:k for k,v in new_clusters.items()}\n",
    "    return [new_clusters[i] for i in clusters] "
   ]
  },
  {
   "cell_type": "code",
   "execution_count": null,
   "metadata": {},
   "outputs": [],
   "source": [
    "def order(clusters,cm):\n",
    "    new_clusters={}\n",
    "    dic={}\n",
    "    trava=-1\n",
    "    possible_clusters=[]\n",
    "    #faz possible clusters com valores True\n",
    "    [possible_clusters.append(True)for i in range(cm.shape[0])]\n",
    "    #loop\n",
    "    for idx, row in enumerate(cm):\n",
    "        while(True):#trava caso o numero não ache de primeira\n",
    "            try:\n",
    "                max=np.argsort(row)[trava]#pega a id do item -x da row\n",
    "                for kdx in range(cm.shape[0]):#checa se tem algum numero maior que ele na coluna\n",
    "                    if cm[kdx][max]>row.max() and possible_clusters[kdx]:#se tiver e ele ainda não estiver sido usado(valor True na possible_clusters)\n",
    "                        new_clusters[kdx]=max\n",
    "                        trava-=1#trava muda de valor pra ver o proximo numero maior da row\n",
    "                        possible_clusters[kdx]=False#usa o new_cluster\n",
    "                        break#sai do loop do for(13)\n",
    "                else:\n",
    "                        new_clusters[idx]=max\n",
    "                        trava=-1#reseta trava para a proxima row\n",
    "                        possible_clusters[idx]=False\n",
    "                        break#sai do loop do while(10) e avança pra proxima iteração do for(9)\n",
    "            except:\n",
    "                pass\n",
    "    #limpa dic pra voltar\n",
    "    dic={v:k for k,v in new_clusters.items()}\n",
    "    return [dic[i] for i in clusters]"
   ]
  },
  {
   "cell_type": "code",
   "execution_count": null,
   "metadata": {},
   "outputs": [],
   "source": [
    "def interface_cm(df,cm):\n",
    "    try:\n",
    "        return order(df.cluster,cm)\n",
    "    except:\n",
    "        print(\"reorder\")\n",
    "        return reorder_clusters(df.cluster,cm)"
   ]
  },
  {
   "cell_type": "code",
   "execution_count": null,
   "metadata": {},
   "outputs": [],
   "source": [
    "disp = ConfusionMatrixDisplay.from_predictions(df[\"labels\"],interface_cm(df,cm))\n",
    "_=disp.figure_.suptitle(\"Confusion Matrix\")\n",
    "# print(f\"Confusion matrix:\\n{disp.confusion_matrix}\")"
   ]
  },
  {
   "cell_type": "code",
   "execution_count": null,
   "metadata": {},
   "outputs": [],
   "source": [
    "df[\"cluster\"]=interface_cm(df,cm)\n",
    "df[df.labels!=df.cluster]"
   ]
  },
  {
   "cell_type": "code",
   "execution_count": null,
   "metadata": {},
   "outputs": [],
   "source": [
    "dic_nomes={0:\"Butterfly\",1:\"Cat\",2:\"Chicken\",3:\"Cow\",4:\"Dog\",5:\"Elephant\",6:\"Horse\",7:\"Sheep\",8:\"Spider\",9:\"Squirrel\"}"
   ]
  },
  {
   "cell_type": "code",
   "execution_count": null,
   "metadata": {},
   "outputs": [],
   "source": [
    "n_img=10\n",
    "erros=list(df[df.labels!=df.cluster].index)\n",
    "feed=erros[:n_img]\n",
    "for id in feed:\n",
    "    fig,ax=plt.subplots(1,1)\n",
    "    _=ax.imshow(df.loc[id,\"foto_array\"])\n",
    "    label=df.loc[id,\"labels\"]\n",
    "    pred=df.loc[id,\"cluster\"]\n",
    "    _=ax.set_title(f\"label: {dic_nomes[label]}   pred: {dic_nomes[pred]}\")\n",
    "    plt.axis(\"off\")"
   ]
  },
  {
   "cell_type": "code",
   "execution_count": null,
   "metadata": {},
   "outputs": [],
   "source": [
    "n_img=1\n",
    "for id in dic_nomes:\n",
    "    erros=list(df[(df.labels==id)&  (df.cluster==id)].index)\n",
    "    feed=erros[:n_img]\n",
    "    for ex in feed:\n",
    "        fig,ax=plt.subplots(1,1)\n",
    "        _=ax.imshow(df.loc[ex,\"foto_array\"])\n",
    "        label=df.loc[ex,\"labels\"]\n",
    "        pred=df.loc[ex,\"cluster\"]\n",
    "        _=ax.set_title(f\"label: {dic_nomes[label]}   pred: {dic_nomes[pred]}\")\n",
    "        plt.axis(\"off\")"
   ]
  }
 ],
 "metadata": {
  "kernelspec": {
   "display_name": ".venv",
   "language": "python",
   "name": "python3"
  },
  "language_info": {
   "codemirror_mode": {
    "name": "ipython",
    "version": 3
   },
   "file_extension": ".py",
   "mimetype": "text/x-python",
   "name": "python",
   "nbconvert_exporter": "python",
   "pygments_lexer": "ipython3",
   "version": "3.11.4"
  },
  "orig_nbformat": 4
 },
 "nbformat": 4,
 "nbformat_minor": 2
}
